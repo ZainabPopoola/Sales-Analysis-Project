{
 "cells": [
  {
   "cell_type": "markdown",
   "id": "1854a49c",
   "metadata": {},
   "source": [
    "# Reporting on sales data\n",
    "### By Yusira Mutholib and Zainab Popoola\n",
    "\n",
    "## 📖 Background\n",
    "We work in the accounting department of a company that sells motorcycle parts. The company operates three warehouses in a large metropolitan area.\n",
    "\n",
    "We’ve recently learned data manipulation and plotting, and suggest helping our colleague analyze past sales data. Our colleague wants to capture sales by payment method. She also needs to know the average unit price for each product line."
   ]
  },
  {
   "cell_type": "markdown",
   "id": "cad87d62",
   "metadata": {},
   "source": [
    "## 💾 The data\n",
    "\n",
    "#### The sales data has the following fields:\n",
    "- \"date\" - The date, from June to August 2021.\n",
    "- \"warehouse\" - The company operates three warehouses: North, Central, and West.\n",
    "- \"client_type\" - There are two types of customers: Retail and Wholesale.\n",
    "- \"product_line\" - Type of products purchased.\n",
    "- \"quantity\" - How many items were purchased.\n",
    "- \"unit_price\" - Price per item sold.\n",
    "- \"total\" - Total sale = quantity * unit_price.\n",
    "- \"payment\" - How the client paid: Cash, Credit card, Transfer."
   ]
  },
  {
   "cell_type": "markdown",
   "id": "77892f8c",
   "metadata": {},
   "source": [
    "## Importing Packages "
   ]
  },
  {
   "cell_type": "code",
   "execution_count": 1,
   "id": "9789258a",
   "metadata": {},
   "outputs": [],
   "source": [
    "import numpy as np\n",
    "import pandas as pd\n",
    "import matplotlib.pyplot as plt\n",
    "import seaborn as sns"
   ]
  },
  {
   "cell_type": "markdown",
   "id": "4ffa4da3",
   "metadata": {},
   "source": [
    "## Importing the data"
   ]
  },
  {
   "cell_type": "code",
   "execution_count": 2,
   "id": "8970eebe",
   "metadata": {},
   "outputs": [],
   "source": [
    "df = pd.read_csv('sales_data.csv')"
   ]
  },
  {
   "cell_type": "markdown",
   "id": "2fb871c3",
   "metadata": {},
   "source": [
    "## Assessing the data"
   ]
  },
  {
   "cell_type": "code",
   "execution_count": 3,
   "id": "3975194b",
   "metadata": {
    "scrolled": true
   },
   "outputs": [
    {
     "data": {
      "text/html": [
       "<div>\n",
       "<style scoped>\n",
       "    .dataframe tbody tr th:only-of-type {\n",
       "        vertical-align: middle;\n",
       "    }\n",
       "\n",
       "    .dataframe tbody tr th {\n",
       "        vertical-align: top;\n",
       "    }\n",
       "\n",
       "    .dataframe thead th {\n",
       "        text-align: right;\n",
       "    }\n",
       "</style>\n",
       "<table border=\"1\" class=\"dataframe\">\n",
       "  <thead>\n",
       "    <tr style=\"text-align: right;\">\n",
       "      <th></th>\n",
       "      <th>date</th>\n",
       "      <th>warehouse</th>\n",
       "      <th>client_type</th>\n",
       "      <th>product_line</th>\n",
       "      <th>quantity</th>\n",
       "      <th>unit_price</th>\n",
       "      <th>total</th>\n",
       "      <th>payment</th>\n",
       "    </tr>\n",
       "  </thead>\n",
       "  <tbody>\n",
       "    <tr>\n",
       "      <th>0</th>\n",
       "      <td>2021-06-01</td>\n",
       "      <td>Central</td>\n",
       "      <td>Retail</td>\n",
       "      <td>Miscellaneous</td>\n",
       "      <td>8</td>\n",
       "      <td>16.85</td>\n",
       "      <td>134.83</td>\n",
       "      <td>Credit card</td>\n",
       "    </tr>\n",
       "    <tr>\n",
       "      <th>1</th>\n",
       "      <td>2021-06-01</td>\n",
       "      <td>North</td>\n",
       "      <td>Retail</td>\n",
       "      <td>Breaking system</td>\n",
       "      <td>9</td>\n",
       "      <td>19.29</td>\n",
       "      <td>173.61</td>\n",
       "      <td>Cash</td>\n",
       "    </tr>\n",
       "    <tr>\n",
       "      <th>2</th>\n",
       "      <td>2021-06-01</td>\n",
       "      <td>North</td>\n",
       "      <td>Retail</td>\n",
       "      <td>Suspension &amp; traction</td>\n",
       "      <td>8</td>\n",
       "      <td>32.93</td>\n",
       "      <td>263.45</td>\n",
       "      <td>Credit card</td>\n",
       "    </tr>\n",
       "    <tr>\n",
       "      <th>3</th>\n",
       "      <td>2021-06-01</td>\n",
       "      <td>North</td>\n",
       "      <td>Wholesale</td>\n",
       "      <td>Frame &amp; body</td>\n",
       "      <td>16</td>\n",
       "      <td>37.84</td>\n",
       "      <td>605.44</td>\n",
       "      <td>Transfer</td>\n",
       "    </tr>\n",
       "    <tr>\n",
       "      <th>4</th>\n",
       "      <td>2021-06-01</td>\n",
       "      <td>Central</td>\n",
       "      <td>Retail</td>\n",
       "      <td>Engine</td>\n",
       "      <td>2</td>\n",
       "      <td>60.48</td>\n",
       "      <td>120.96</td>\n",
       "      <td>Credit card</td>\n",
       "    </tr>\n",
       "  </tbody>\n",
       "</table>\n",
       "</div>"
      ],
      "text/plain": [
       "         date warehouse client_type           product_line  quantity  \\\n",
       "0  2021-06-01   Central      Retail          Miscellaneous         8   \n",
       "1  2021-06-01     North      Retail        Breaking system         9   \n",
       "2  2021-06-01     North      Retail  Suspension & traction         8   \n",
       "3  2021-06-01     North   Wholesale           Frame & body        16   \n",
       "4  2021-06-01   Central      Retail                 Engine         2   \n",
       "\n",
       "   unit_price   total      payment  \n",
       "0       16.85  134.83  Credit card  \n",
       "1       19.29  173.61         Cash  \n",
       "2       32.93  263.45  Credit card  \n",
       "3       37.84  605.44     Transfer  \n",
       "4       60.48  120.96  Credit card  "
      ]
     },
     "execution_count": 3,
     "metadata": {},
     "output_type": "execute_result"
    }
   ],
   "source": [
    "df.head()"
   ]
  },
  {
   "cell_type": "code",
   "execution_count": 4,
   "id": "93d7db9b",
   "metadata": {},
   "outputs": [
    {
     "name": "stdout",
     "output_type": "stream",
     "text": [
      "<class 'pandas.core.frame.DataFrame'>\n",
      "RangeIndex: 1000 entries, 0 to 999\n",
      "Data columns (total 8 columns):\n",
      " #   Column        Non-Null Count  Dtype  \n",
      "---  ------        --------------  -----  \n",
      " 0   date          1000 non-null   object \n",
      " 1   warehouse     1000 non-null   object \n",
      " 2   client_type   1000 non-null   object \n",
      " 3   product_line  1000 non-null   object \n",
      " 4   quantity      1000 non-null   int64  \n",
      " 5   unit_price    1000 non-null   float64\n",
      " 6   total         1000 non-null   float64\n",
      " 7   payment       1000 non-null   object \n",
      "dtypes: float64(2), int64(1), object(5)\n",
      "memory usage: 62.6+ KB\n"
     ]
    }
   ],
   "source": [
    "df.info()"
   ]
  },
  {
   "cell_type": "code",
   "execution_count": 5,
   "id": "5e7f308e",
   "metadata": {},
   "outputs": [
    {
     "data": {
      "text/html": [
       "<div>\n",
       "<style scoped>\n",
       "    .dataframe tbody tr th:only-of-type {\n",
       "        vertical-align: middle;\n",
       "    }\n",
       "\n",
       "    .dataframe tbody tr th {\n",
       "        vertical-align: top;\n",
       "    }\n",
       "\n",
       "    .dataframe thead th {\n",
       "        text-align: right;\n",
       "    }\n",
       "</style>\n",
       "<table border=\"1\" class=\"dataframe\">\n",
       "  <thead>\n",
       "    <tr style=\"text-align: right;\">\n",
       "      <th></th>\n",
       "      <th>quantity</th>\n",
       "      <th>unit_price</th>\n",
       "      <th>total</th>\n",
       "    </tr>\n",
       "  </thead>\n",
       "  <tbody>\n",
       "    <tr>\n",
       "      <th>count</th>\n",
       "      <td>1000.000000</td>\n",
       "      <td>1000.000000</td>\n",
       "      <td>1000.000000</td>\n",
       "    </tr>\n",
       "    <tr>\n",
       "      <th>mean</th>\n",
       "      <td>9.395000</td>\n",
       "      <td>30.322040</td>\n",
       "      <td>289.113000</td>\n",
       "    </tr>\n",
       "    <tr>\n",
       "      <th>std</th>\n",
       "      <td>9.659207</td>\n",
       "      <td>12.256488</td>\n",
       "      <td>345.227596</td>\n",
       "    </tr>\n",
       "    <tr>\n",
       "      <th>min</th>\n",
       "      <td>1.000000</td>\n",
       "      <td>10.030000</td>\n",
       "      <td>10.350000</td>\n",
       "    </tr>\n",
       "    <tr>\n",
       "      <th>25%</th>\n",
       "      <td>4.000000</td>\n",
       "      <td>21.085000</td>\n",
       "      <td>93.687500</td>\n",
       "    </tr>\n",
       "    <tr>\n",
       "      <th>50%</th>\n",
       "      <td>6.500000</td>\n",
       "      <td>28.570000</td>\n",
       "      <td>178.360000</td>\n",
       "    </tr>\n",
       "    <tr>\n",
       "      <th>75%</th>\n",
       "      <td>10.000000</td>\n",
       "      <td>37.917500</td>\n",
       "      <td>321.690000</td>\n",
       "    </tr>\n",
       "    <tr>\n",
       "      <th>max</th>\n",
       "      <td>40.000000</td>\n",
       "      <td>66.620000</td>\n",
       "      <td>2546.330000</td>\n",
       "    </tr>\n",
       "  </tbody>\n",
       "</table>\n",
       "</div>"
      ],
      "text/plain": [
       "          quantity   unit_price        total\n",
       "count  1000.000000  1000.000000  1000.000000\n",
       "mean      9.395000    30.322040   289.113000\n",
       "std       9.659207    12.256488   345.227596\n",
       "min       1.000000    10.030000    10.350000\n",
       "25%       4.000000    21.085000    93.687500\n",
       "50%       6.500000    28.570000   178.360000\n",
       "75%      10.000000    37.917500   321.690000\n",
       "max      40.000000    66.620000  2546.330000"
      ]
     },
     "execution_count": 5,
     "metadata": {},
     "output_type": "execute_result"
    }
   ],
   "source": [
    "df.describe()"
   ]
  },
  {
   "cell_type": "code",
   "execution_count": 6,
   "id": "5954935b",
   "metadata": {
    "scrolled": true
   },
   "outputs": [
    {
     "data": {
      "text/plain": [
       "date            0\n",
       "warehouse       0\n",
       "client_type     0\n",
       "product_line    0\n",
       "quantity        0\n",
       "unit_price      0\n",
       "total           0\n",
       "payment         0\n",
       "dtype: int64"
      ]
     },
     "execution_count": 6,
     "metadata": {},
     "output_type": "execute_result"
    }
   ],
   "source": [
    "df.isna().sum()"
   ]
  },
  {
   "cell_type": "markdown",
   "id": "1266e9a5",
   "metadata": {},
   "source": [
    "**There are no null values in the dataset**"
   ]
  },
  {
   "cell_type": "code",
   "execution_count": 7,
   "id": "d862dba1",
   "metadata": {},
   "outputs": [
    {
     "data": {
      "text/plain": [
       "0"
      ]
     },
     "execution_count": 7,
     "metadata": {},
     "output_type": "execute_result"
    }
   ],
   "source": [
    "df.duplicated().sum()"
   ]
  },
  {
   "cell_type": "markdown",
   "id": "26636992",
   "metadata": {},
   "source": [
    "**There are no duplicated rows in the dataset**"
   ]
  },
  {
   "cell_type": "code",
   "execution_count": 8,
   "id": "f900ad4d",
   "metadata": {},
   "outputs": [
    {
     "data": {
      "text/plain": [
       "Central    480\n",
       "North      340\n",
       "West       180\n",
       "Name: warehouse, dtype: int64"
      ]
     },
     "execution_count": 8,
     "metadata": {},
     "output_type": "execute_result"
    }
   ],
   "source": [
    "df['warehouse'].value_counts()"
   ]
  },
  {
   "cell_type": "code",
   "execution_count": 9,
   "id": "f644ab76",
   "metadata": {},
   "outputs": [
    {
     "data": {
      "text/plain": [
       "Retail       775\n",
       "Wholesale    225\n",
       "Name: client_type, dtype: int64"
      ]
     },
     "execution_count": 9,
     "metadata": {},
     "output_type": "execute_result"
    }
   ],
   "source": [
    "df['client_type'].value_counts()"
   ]
  },
  {
   "cell_type": "code",
   "execution_count": 10,
   "id": "9611e17b",
   "metadata": {},
   "outputs": [
    {
     "data": {
      "text/plain": [
       "Breaking system          230\n",
       "Suspension & traction    228\n",
       "Electrical system        193\n",
       "Frame & body             166\n",
       "Miscellaneous            122\n",
       "Engine                    61\n",
       "Name: product_line, dtype: int64"
      ]
     },
     "execution_count": 10,
     "metadata": {},
     "output_type": "execute_result"
    }
   ],
   "source": [
    "df['product_line'].value_counts()"
   ]
  },
  {
   "cell_type": "code",
   "execution_count": 11,
   "id": "82964585",
   "metadata": {},
   "outputs": [
    {
     "data": {
      "text/plain": [
       "Credit card    659\n",
       "Transfer       225\n",
       "Cash           116\n",
       "Name: payment, dtype: int64"
      ]
     },
     "execution_count": 11,
     "metadata": {},
     "output_type": "execute_result"
    }
   ],
   "source": [
    "df['payment'].value_counts()"
   ]
  },
  {
   "cell_type": "markdown",
   "id": "a8541342",
   "metadata": {},
   "source": [
    "## Cleaning the data"
   ]
  },
  {
   "cell_type": "code",
   "execution_count": 12,
   "id": "7eb51b18",
   "metadata": {},
   "outputs": [],
   "source": [
    "#Converting the date column from object to datetime format\n",
    "df['date'] = pd.to_datetime(df['date'])"
   ]
  },
  {
   "cell_type": "code",
   "execution_count": 13,
   "id": "795da225",
   "metadata": {},
   "outputs": [],
   "source": [
    "#Creating a month column from the date column\n",
    "df['month']= pd.DatetimeIndex(df['date']).month\n",
    "df['month'] = pd.to_datetime(df['month'], format='%m').dt.month_name().str.slice(stop=3)"
   ]
  },
  {
   "cell_type": "code",
   "execution_count": 14,
   "id": "955e4821",
   "metadata": {},
   "outputs": [
    {
     "data": {
      "text/plain": [
       "Jul    345\n",
       "Jun    338\n",
       "Aug    317\n",
       "Name: month, dtype: int64"
      ]
     },
     "execution_count": 14,
     "metadata": {},
     "output_type": "execute_result"
    }
   ],
   "source": [
    "df.month.value_counts()"
   ]
  },
  {
   "cell_type": "markdown",
   "id": "73c0d7c7",
   "metadata": {},
   "source": [
    "## Exploratory Data Analysis"
   ]
  },
  {
   "cell_type": "markdown",
   "id": "d9da4f8a",
   "metadata": {},
   "source": [
    "### Question 1: What are the total sales for each payment method?"
   ]
  },
  {
   "cell_type": "code",
   "execution_count": 15,
   "id": "2ad06357",
   "metadata": {},
   "outputs": [
    {
     "data": {
      "text/html": [
       "<div>\n",
       "<style scoped>\n",
       "    .dataframe tbody tr th:only-of-type {\n",
       "        vertical-align: middle;\n",
       "    }\n",
       "\n",
       "    .dataframe tbody tr th {\n",
       "        vertical-align: top;\n",
       "    }\n",
       "\n",
       "    .dataframe thead th {\n",
       "        text-align: right;\n",
       "    }\n",
       "</style>\n",
       "<table border=\"1\" class=\"dataframe\">\n",
       "  <thead>\n",
       "    <tr style=\"text-align: right;\">\n",
       "      <th></th>\n",
       "      <th>total</th>\n",
       "    </tr>\n",
       "    <tr>\n",
       "      <th>payment</th>\n",
       "      <th></th>\n",
       "    </tr>\n",
       "  </thead>\n",
       "  <tbody>\n",
       "    <tr>\n",
       "      <th>Transfer</th>\n",
       "      <td>159642.33</td>\n",
       "    </tr>\n",
       "    <tr>\n",
       "      <th>Credit card</th>\n",
       "      <td>110271.57</td>\n",
       "    </tr>\n",
       "    <tr>\n",
       "      <th>Cash</th>\n",
       "      <td>19199.10</td>\n",
       "    </tr>\n",
       "  </tbody>\n",
       "</table>\n",
       "</div>"
      ],
      "text/plain": [
       "                 total\n",
       "payment               \n",
       "Transfer     159642.33\n",
       "Credit card  110271.57\n",
       "Cash          19199.10"
      ]
     },
     "execution_count": 15,
     "metadata": {},
     "output_type": "execute_result"
    }
   ],
   "source": [
    "total_by_payment = df.groupby('payment').sum()[['total']].sort_values(by='total', ascending=False)\n",
    "total_by_payment"
   ]
  },
  {
   "cell_type": "code",
   "execution_count": 16,
   "id": "f1d5c6ff",
   "metadata": {},
   "outputs": [
    {
     "data": {
      "image/png": "[encoded data removed]",
      "text/plain": [
       "<Figure size 432x288 with 1 Axes>"
      ]
     },
     "metadata": {
      "needs_background": "light"
     },
     "output_type": "display_data"
    }
   ],
   "source": [
    "plt.bar(x=total_by_payment.index, height=total_by_payment['total'])\n",
    "plt.xlabel('Payment Methods')\n",
    "plt.ylabel('Total Sales')\n",
    "plt.title('Total Sales For Each Payment Method')\n",
    "plt.show()"
   ]
  },
  {
   "cell_type": "markdown",
   "id": "7a05311a",
   "metadata": {},
   "source": [
    "**Transfer payment method had the highest total sales**"
   ]
  },
  {
   "cell_type": "markdown",
   "id": "bc8673bf",
   "metadata": {},
   "source": [
    "### Question 2: What are the total quanities purchased using each payment method?"
   ]
  },
  {
   "cell_type": "code",
   "execution_count": 17,
   "id": "a31538ff",
   "metadata": {},
   "outputs": [
    {
     "data": {
      "text/html": [
       "<div>\n",
       "<style scoped>\n",
       "    .dataframe tbody tr th:only-of-type {\n",
       "        vertical-align: middle;\n",
       "    }\n",
       "\n",
       "    .dataframe tbody tr th {\n",
       "        vertical-align: top;\n",
       "    }\n",
       "\n",
       "    .dataframe thead th {\n",
       "        text-align: right;\n",
       "    }\n",
       "</style>\n",
       "<table border=\"1\" class=\"dataframe\">\n",
       "  <thead>\n",
       "    <tr style=\"text-align: right;\">\n",
       "      <th></th>\n",
       "      <th>quantity</th>\n",
       "    </tr>\n",
       "    <tr>\n",
       "      <th>payment</th>\n",
       "      <th></th>\n",
       "    </tr>\n",
       "  </thead>\n",
       "  <tbody>\n",
       "    <tr>\n",
       "      <th>Transfer</th>\n",
       "      <td>5180</td>\n",
       "    </tr>\n",
       "    <tr>\n",
       "      <th>Credit card</th>\n",
       "      <td>3588</td>\n",
       "    </tr>\n",
       "    <tr>\n",
       "      <th>Cash</th>\n",
       "      <td>627</td>\n",
       "    </tr>\n",
       "  </tbody>\n",
       "</table>\n",
       "</div>"
      ],
      "text/plain": [
       "             quantity\n",
       "payment              \n",
       "Transfer         5180\n",
       "Credit card      3588\n",
       "Cash              627"
      ]
     },
     "execution_count": 17,
     "metadata": {},
     "output_type": "execute_result"
    }
   ],
   "source": [
    "quantity_by_payment = df.groupby('payment').sum()[['quantity']].sort_values(by='quantity', ascending=False)\n",
    "quantity_by_payment"
   ]
  },
  {
   "cell_type": "code",
   "execution_count": 18,
   "id": "b2115cdf",
   "metadata": {},
   "outputs": [
    {
     "data": {
      "image/png": "[encoded data removed]",
      "text/plain": [
       "<Figure size 432x288 with 1 Axes>"
      ]
     },
     "metadata": {
      "needs_background": "light"
     },
     "output_type": "display_data"
    }
   ],
   "source": [
    "plt.bar(x=quantity_by_payment.index, height=quantity_by_payment['quantity'])\n",
    "plt.xlabel('Payment Methods')\n",
    "plt.ylabel('Quantity Purchased')\n",
    "plt.title('Qunatity Purchased For Each Payment Method')\n",
    "plt.show()"
   ]
  },
  {
   "cell_type": "markdown",
   "id": "1d4c7186",
   "metadata": {},
   "source": [
    "**Transfer payment method had the highest quantity purchased**"
   ]
  },
  {
   "cell_type": "markdown",
   "id": "77f738e8",
   "metadata": {},
   "source": [
    "### Question 3: What are the average unit price for each product line?"
   ]
  },
  {
   "cell_type": "code",
   "execution_count": 19,
   "id": "cd2929de",
   "metadata": {},
   "outputs": [
    {
     "data": {
      "text/html": [
       "<div>\n",
       "<style scoped>\n",
       "    .dataframe tbody tr th:only-of-type {\n",
       "        vertical-align: middle;\n",
       "    }\n",
       "\n",
       "    .dataframe tbody tr th {\n",
       "        vertical-align: top;\n",
       "    }\n",
       "\n",
       "    .dataframe thead th {\n",
       "        text-align: right;\n",
       "    }\n",
       "</style>\n",
       "<table border=\"1\" class=\"dataframe\">\n",
       "  <thead>\n",
       "    <tr style=\"text-align: right;\">\n",
       "      <th></th>\n",
       "      <th>unit_price</th>\n",
       "    </tr>\n",
       "    <tr>\n",
       "      <th>product_line</th>\n",
       "      <th></th>\n",
       "    </tr>\n",
       "  </thead>\n",
       "  <tbody>\n",
       "    <tr>\n",
       "      <th>Breaking system</th>\n",
       "      <td>17.740522</td>\n",
       "    </tr>\n",
       "    <tr>\n",
       "      <th>Miscellaneous</th>\n",
       "      <td>22.810738</td>\n",
       "    </tr>\n",
       "    <tr>\n",
       "      <th>Electrical system</th>\n",
       "      <td>25.585130</td>\n",
       "    </tr>\n",
       "    <tr>\n",
       "      <th>Suspension &amp; traction</th>\n",
       "      <td>33.969868</td>\n",
       "    </tr>\n",
       "    <tr>\n",
       "      <th>Frame &amp; body</th>\n",
       "      <td>42.832229</td>\n",
       "    </tr>\n",
       "    <tr>\n",
       "      <th>Engine</th>\n",
       "      <td>60.091803</td>\n",
       "    </tr>\n",
       "  </tbody>\n",
       "</table>\n",
       "</div>"
      ],
      "text/plain": [
       "                       unit_price\n",
       "product_line                     \n",
       "Breaking system         17.740522\n",
       "Miscellaneous           22.810738\n",
       "Electrical system       25.585130\n",
       "Suspension & traction   33.969868\n",
       "Frame & body            42.832229\n",
       "Engine                  60.091803"
      ]
     },
     "execution_count": 19,
     "metadata": {},
     "output_type": "execute_result"
    }
   ],
   "source": [
    "avg_unit_price = df.groupby('product_line').mean()[['unit_price']].sort_values(by='unit_price')\n",
    "avg_unit_price"
   ]
  },
  {
   "cell_type": "code",
   "execution_count": 20,
   "id": "93d0dc32",
   "metadata": {},
   "outputs": [
    {
     "data": {
      "image/png": "[encoded data removed]",
      "text/plain": [
       "<Figure size 432x288 with 1 Axes>"
      ]
     },
     "metadata": {
      "needs_background": "light"
     },
     "output_type": "display_data"
    }
   ],
   "source": [
    "plt.barh(y=avg_unit_price.index, width=avg_unit_price['unit_price'])\n",
    "plt.xlabel('Product Lines')\n",
    "plt.ylabel('Unit Price')\n",
    "plt.title('Average Unit Price per Product Line')\n",
    "plt.show()"
   ]
  },
  {
   "cell_type": "markdown",
   "id": "5b5aef67",
   "metadata": {},
   "source": [
    "**Engine products have the highest average unit price**"
   ]
  },
  {
   "cell_type": "markdown",
   "id": "d0e67c43",
   "metadata": {},
   "source": [
    "### Question 4: What are the total sales for each product line?"
   ]
  },
  {
   "cell_type": "code",
   "execution_count": 21,
   "id": "1092dda0",
   "metadata": {},
   "outputs": [
    {
     "data": {
      "text/html": [
       "<div>\n",
       "<style scoped>\n",
       "    .dataframe tbody tr th:only-of-type {\n",
       "        vertical-align: middle;\n",
       "    }\n",
       "\n",
       "    .dataframe tbody tr th {\n",
       "        vertical-align: top;\n",
       "    }\n",
       "\n",
       "    .dataframe thead th {\n",
       "        text-align: right;\n",
       "    }\n",
       "</style>\n",
       "<table border=\"1\" class=\"dataframe\">\n",
       "  <thead>\n",
       "    <tr style=\"text-align: right;\">\n",
       "      <th></th>\n",
       "      <th>total</th>\n",
       "    </tr>\n",
       "    <tr>\n",
       "      <th>product_line</th>\n",
       "      <th></th>\n",
       "    </tr>\n",
       "  </thead>\n",
       "  <tbody>\n",
       "    <tr>\n",
       "      <th>Miscellaneous</th>\n",
       "      <td>27165.82</td>\n",
       "    </tr>\n",
       "    <tr>\n",
       "      <th>Engine</th>\n",
       "      <td>37945.38</td>\n",
       "    </tr>\n",
       "    <tr>\n",
       "      <th>Breaking system</th>\n",
       "      <td>38350.15</td>\n",
       "    </tr>\n",
       "    <tr>\n",
       "      <th>Electrical system</th>\n",
       "      <td>43612.71</td>\n",
       "    </tr>\n",
       "    <tr>\n",
       "      <th>Frame &amp; body</th>\n",
       "      <td>69024.73</td>\n",
       "    </tr>\n",
       "    <tr>\n",
       "      <th>Suspension &amp; traction</th>\n",
       "      <td>73014.21</td>\n",
       "    </tr>\n",
       "  </tbody>\n",
       "</table>\n",
       "</div>"
      ],
      "text/plain": [
       "                          total\n",
       "product_line                   \n",
       "Miscellaneous          27165.82\n",
       "Engine                 37945.38\n",
       "Breaking system        38350.15\n",
       "Electrical system      43612.71\n",
       "Frame & body           69024.73\n",
       "Suspension & traction  73014.21"
      ]
     },
     "execution_count": 21,
     "metadata": {},
     "output_type": "execute_result"
    }
   ],
   "source": [
    "total_sales_by_product = df.groupby('product_line').sum()[['total']].sort_values(by='total')\n",
    "total_sales_by_product"
   ]
  },
  {
   "cell_type": "code",
   "execution_count": 22,
   "id": "c25b0775",
   "metadata": {},
   "outputs": [
    {
     "data": {
      "image/png": "[encoded data removed]",
      "text/plain": [
       "<Figure size 432x288 with 1 Axes>"
      ]
     },
     "metadata": {
      "needs_background": "light"
     },
     "output_type": "display_data"
    }
   ],
   "source": [
    "plt.barh(y=total_sales_by_product.index, width=total_sales_by_product['total'])\n",
    "plt.xlabel('Product Lines')\n",
    "plt.ylabel('Total Sales')\n",
    "plt.title('Total Sales per Product Line')\n",
    "plt.show()"
   ]
  },
  {
   "cell_type": "markdown",
   "id": "ba56a00f",
   "metadata": {},
   "source": [
    "**Suspension & Traction had the highest total sales of all the products**"
   ]
  },
  {
   "cell_type": "markdown",
   "id": "9767c801",
   "metadata": {},
   "source": [
    "### Question 5: What are the total quantities purchased in each product line?"
   ]
  },
  {
   "cell_type": "code",
   "execution_count": 23,
   "id": "5af2ed7a",
   "metadata": {},
   "outputs": [
    {
     "data": {
      "text/html": [
       "<div>\n",
       "<style scoped>\n",
       "    .dataframe tbody tr th:only-of-type {\n",
       "        vertical-align: middle;\n",
       "    }\n",
       "\n",
       "    .dataframe tbody tr th {\n",
       "        vertical-align: top;\n",
       "    }\n",
       "\n",
       "    .dataframe thead th {\n",
       "        text-align: right;\n",
       "    }\n",
       "</style>\n",
       "<table border=\"1\" class=\"dataframe\">\n",
       "  <thead>\n",
       "    <tr style=\"text-align: right;\">\n",
       "      <th></th>\n",
       "      <th>quantity</th>\n",
       "    </tr>\n",
       "    <tr>\n",
       "      <th>product_line</th>\n",
       "      <th></th>\n",
       "    </tr>\n",
       "  </thead>\n",
       "  <tbody>\n",
       "    <tr>\n",
       "      <th>Engine</th>\n",
       "      <td>627</td>\n",
       "    </tr>\n",
       "    <tr>\n",
       "      <th>Miscellaneous</th>\n",
       "      <td>1176</td>\n",
       "    </tr>\n",
       "    <tr>\n",
       "      <th>Frame &amp; body</th>\n",
       "      <td>1619</td>\n",
       "    </tr>\n",
       "    <tr>\n",
       "      <th>Electrical system</th>\n",
       "      <td>1698</td>\n",
       "    </tr>\n",
       "    <tr>\n",
       "      <th>Breaking system</th>\n",
       "      <td>2130</td>\n",
       "    </tr>\n",
       "    <tr>\n",
       "      <th>Suspension &amp; traction</th>\n",
       "      <td>2145</td>\n",
       "    </tr>\n",
       "  </tbody>\n",
       "</table>\n",
       "</div>"
      ],
      "text/plain": [
       "                       quantity\n",
       "product_line                   \n",
       "Engine                      627\n",
       "Miscellaneous              1176\n",
       "Frame & body               1619\n",
       "Electrical system          1698\n",
       "Breaking system            2130\n",
       "Suspension & traction      2145"
      ]
     },
     "execution_count": 23,
     "metadata": {},
     "output_type": "execute_result"
    }
   ],
   "source": [
    "quantity_by_product = df.groupby('product_line').sum()[['quantity']].sort_values(by='quantity').sort_values(by='quantity')\n",
    "quantity_by_product"
   ]
  },
  {
   "cell_type": "code",
   "execution_count": 24,
   "id": "66135bf9",
   "metadata": {},
   "outputs": [
    {
     "data": {
      "image/png": "[encoded data removed]",
      "text/plain": [
       "<Figure size 432x288 with 1 Axes>"
      ]
     },
     "metadata": {
      "needs_background": "light"
     },
     "output_type": "display_data"
    }
   ],
   "source": [
    "plt.barh(y=quantity_by_product.index, width=quantity_by_product['quantity'])\n",
    "plt.xlabel('Product Lines')\n",
    "plt.ylabel('Quantity')\n",
    "plt.title(' Total Quantity per Product Line')\n",
    "plt.show()"
   ]
  },
  {
   "cell_type": "markdown",
   "id": "06c5dbf1",
   "metadata": {},
   "source": [
    "**Suspension & Traction also had the highest quantity purchased of all the products**"
   ]
  },
  {
   "cell_type": "markdown",
   "id": "43c37c0e",
   "metadata": {},
   "source": [
    "### Question 6: What are the proportions of client types?"
   ]
  },
  {
   "cell_type": "code",
   "execution_count": 25,
   "id": "a573ec84",
   "metadata": {
    "scrolled": true
   },
   "outputs": [
    {
     "data": {
      "image/png": "[encoded data removed]",
      "text/plain": [
       "<Figure size 432x288 with 1 Axes>"
      ]
     },
     "metadata": {},
     "output_type": "display_data"
    }
   ],
   "source": [
    "df['client_type'].value_counts().plot(kind=\"pie\", fontsize=12, autopct=\"%1.1f%%\", explode=[0.0, 0.1])\n",
    "plt.title(\"The Percentages Of the type of client\", fontsize=15)\n",
    "plt.show()"
   ]
  },
  {
   "cell_type": "markdown",
   "id": "f82e11d1",
   "metadata": {},
   "source": [
    "### Question 7: What is the average sale for each client type?"
   ]
  },
  {
   "cell_type": "code",
   "execution_count": 26,
   "id": "32a42ef2",
   "metadata": {},
   "outputs": [
    {
     "data": {
      "text/html": [
       "<div>\n",
       "<style scoped>\n",
       "    .dataframe tbody tr th:only-of-type {\n",
       "        vertical-align: middle;\n",
       "    }\n",
       "\n",
       "    .dataframe tbody tr th {\n",
       "        vertical-align: top;\n",
       "    }\n",
       "\n",
       "    .dataframe thead th {\n",
       "        text-align: right;\n",
       "    }\n",
       "</style>\n",
       "<table border=\"1\" class=\"dataframe\">\n",
       "  <thead>\n",
       "    <tr style=\"text-align: right;\">\n",
       "      <th></th>\n",
       "      <th>total</th>\n",
       "    </tr>\n",
       "    <tr>\n",
       "      <th>client_type</th>\n",
       "      <th></th>\n",
       "    </tr>\n",
       "  </thead>\n",
       "  <tbody>\n",
       "    <tr>\n",
       "      <th>Wholesale</th>\n",
       "      <td>709.521467</td>\n",
       "    </tr>\n",
       "    <tr>\n",
       "      <th>Retail</th>\n",
       "      <td>167.058929</td>\n",
       "    </tr>\n",
       "  </tbody>\n",
       "</table>\n",
       "</div>"
      ],
      "text/plain": [
       "                  total\n",
       "client_type            \n",
       "Wholesale    709.521467\n",
       "Retail       167.058929"
      ]
     },
     "execution_count": 26,
     "metadata": {},
     "output_type": "execute_result"
    }
   ],
   "source": [
    "avg_sales_by_client = df.groupby('client_type').mean()[['total']].sort_values(by='total', ascending=False)\n",
    "avg_sales_by_client"
   ]
  },
  {
   "cell_type": "code",
   "execution_count": 27,
   "id": "1aa732b2",
   "metadata": {},
   "outputs": [
    {
     "data": {
      "image/png": "[encoded data removed]",
      "text/plain": [
       "<Figure size 432x288 with 1 Axes>"
      ]
     },
     "metadata": {
      "needs_background": "light"
     },
     "output_type": "display_data"
    }
   ],
   "source": [
    "plt.bar(x=avg_sales_by_client.index, height=avg_sales_by_client['total'])\n",
    "plt.xlabel('Client Type')\n",
    "plt.ylabel('Average Sales')\n",
    "plt.title('Average Sales For Each Client Type')\n",
    "plt.show()"
   ]
  },
  {
   "cell_type": "markdown",
   "id": "592a8fee",
   "metadata": {},
   "source": [
    "**Wholesale clients had the highest total sales**"
   ]
  },
  {
   "cell_type": "markdown",
   "id": "23a221ee",
   "metadata": {},
   "source": [
    "### Question 8: What is the quantity sold for each client type?"
   ]
  },
  {
   "cell_type": "code",
   "execution_count": 28,
   "id": "9507a43c",
   "metadata": {},
   "outputs": [
    {
     "data": {
      "text/html": [
       "<div>\n",
       "<style scoped>\n",
       "    .dataframe tbody tr th:only-of-type {\n",
       "        vertical-align: middle;\n",
       "    }\n",
       "\n",
       "    .dataframe tbody tr th {\n",
       "        vertical-align: top;\n",
       "    }\n",
       "\n",
       "    .dataframe thead th {\n",
       "        text-align: right;\n",
       "    }\n",
       "</style>\n",
       "<table border=\"1\" class=\"dataframe\">\n",
       "  <thead>\n",
       "    <tr style=\"text-align: right;\">\n",
       "      <th></th>\n",
       "      <th>quantity</th>\n",
       "    </tr>\n",
       "    <tr>\n",
       "      <th>client_type</th>\n",
       "      <th></th>\n",
       "    </tr>\n",
       "  </thead>\n",
       "  <tbody>\n",
       "    <tr>\n",
       "      <th>Wholesale</th>\n",
       "      <td>23.022222</td>\n",
       "    </tr>\n",
       "    <tr>\n",
       "      <th>Retail</th>\n",
       "      <td>5.438710</td>\n",
       "    </tr>\n",
       "  </tbody>\n",
       "</table>\n",
       "</div>"
      ],
      "text/plain": [
       "              quantity\n",
       "client_type           \n",
       "Wholesale    23.022222\n",
       "Retail        5.438710"
      ]
     },
     "execution_count": 28,
     "metadata": {},
     "output_type": "execute_result"
    }
   ],
   "source": [
    "avg_quantity_by_client = df.groupby('client_type').mean()[['quantity']].sort_values(by='quantity', ascending=False)\n",
    "avg_quantity_by_client"
   ]
  },
  {
   "cell_type": "code",
   "execution_count": 29,
   "id": "dc210b11",
   "metadata": {},
   "outputs": [
    {
     "data": {
      "image/png": "[encoded data removed]",
      "text/plain": [
       "<Figure size 432x288 with 1 Axes>"
      ]
     },
     "metadata": {
      "needs_background": "light"
     },
     "output_type": "display_data"
    }
   ],
   "source": [
    "plt.bar(x=avg_quantity_by_client.index, height=avg_quantity_by_client['quantity'])\n",
    "plt.xlabel('Client Type')\n",
    "plt.ylabel('Average Quantity Sold')\n",
    "plt.title('Average Quantity Sold For Each Client Type')\n",
    "plt.show()"
   ]
  },
  {
   "cell_type": "markdown",
   "id": "f7773376",
   "metadata": {},
   "source": [
    "**Wholesale clients also purchased the highest number of quantities**"
   ]
  },
  {
   "cell_type": "markdown",
   "id": "409dce94",
   "metadata": {},
   "source": [
    "### Question 9: What the total sales by Warehouse Location for Each Client Type"
   ]
  },
  {
   "cell_type": "code",
   "execution_count": 30,
   "id": "f8e9fe76",
   "metadata": {
    "scrolled": true
   },
   "outputs": [
    {
     "data": {
      "text/html": [
       "<div>\n",
       "<style scoped>\n",
       "    .dataframe tbody tr th:only-of-type {\n",
       "        vertical-align: middle;\n",
       "    }\n",
       "\n",
       "    .dataframe tbody tr th {\n",
       "        vertical-align: top;\n",
       "    }\n",
       "\n",
       "    .dataframe thead tr th {\n",
       "        text-align: left;\n",
       "    }\n",
       "\n",
       "    .dataframe thead tr:last-of-type th {\n",
       "        text-align: right;\n",
       "    }\n",
       "</style>\n",
       "<table border=\"1\" class=\"dataframe\">\n",
       "  <thead>\n",
       "    <tr>\n",
       "      <th></th>\n",
       "      <th colspan=\"2\" halign=\"left\">total</th>\n",
       "    </tr>\n",
       "    <tr>\n",
       "      <th>client_type</th>\n",
       "      <th>Retail</th>\n",
       "      <th>Wholesale</th>\n",
       "    </tr>\n",
       "    <tr>\n",
       "      <th>warehouse</th>\n",
       "      <th></th>\n",
       "      <th></th>\n",
       "    </tr>\n",
       "  </thead>\n",
       "  <tbody>\n",
       "    <tr>\n",
       "      <th>Central</th>\n",
       "      <td>63126.12</td>\n",
       "      <td>78856.76</td>\n",
       "    </tr>\n",
       "    <tr>\n",
       "      <th>North</th>\n",
       "      <td>42137.36</td>\n",
       "      <td>58066.27</td>\n",
       "    </tr>\n",
       "    <tr>\n",
       "      <th>West</th>\n",
       "      <td>24207.19</td>\n",
       "      <td>22719.30</td>\n",
       "    </tr>\n",
       "  </tbody>\n",
       "</table>\n",
       "</div>"
      ],
      "text/plain": [
       "                total          \n",
       "client_type    Retail Wholesale\n",
       "warehouse                      \n",
       "Central      63126.12  78856.76\n",
       "North        42137.36  58066.27\n",
       "West         24207.19  22719.30"
      ]
     },
     "execution_count": 30,
     "metadata": {},
     "output_type": "execute_result"
    }
   ],
   "source": [
    "df_group = df.groupby(['warehouse','client_type']).sum()[['total']].unstack()\n",
    "df_group"
   ]
  },
  {
   "cell_type": "code",
   "execution_count": 31,
   "id": "f9a0ac7d",
   "metadata": {},
   "outputs": [
    {
     "data": {
      "image/png": "[encoded data removed]",
      "text/plain": [
       "<Figure size 432x288 with 1 Axes>"
      ]
     },
     "metadata": {
      "needs_background": "light"
     },
     "output_type": "display_data"
    }
   ],
   "source": [
    "df_group.plot(kind='bar')\n",
    "plt.xlabel('Warehouse Location')\n",
    "plt.ylabel('Total Sales')\n",
    "plt.title('Total Sales by Warehouse Location for Each Client Type')\n",
    "plt.xticks(rotation=0)\n",
    "plt.legend(['Retail', 'Wholesale'], title='Client Type')\n",
    "plt.show()"
   ]
  },
  {
   "cell_type": "markdown",
   "id": "ca7a8697",
   "metadata": {},
   "source": [
    "**Wholesale clients had the most sales in the Central and North warehouse regions but not in the West warehouse region**"
   ]
  },
  {
   "cell_type": "markdown",
   "id": "56e17ef9",
   "metadata": {},
   "source": [
    "### Question 10: What is the total sale for each warehouse location?"
   ]
  },
  {
   "cell_type": "code",
   "execution_count": 32,
   "id": "85c38256",
   "metadata": {},
   "outputs": [
    {
     "data": {
      "text/html": [
       "<div>\n",
       "<style scoped>\n",
       "    .dataframe tbody tr th:only-of-type {\n",
       "        vertical-align: middle;\n",
       "    }\n",
       "\n",
       "    .dataframe tbody tr th {\n",
       "        vertical-align: top;\n",
       "    }\n",
       "\n",
       "    .dataframe thead th {\n",
       "        text-align: right;\n",
       "    }\n",
       "</style>\n",
       "<table border=\"1\" class=\"dataframe\">\n",
       "  <thead>\n",
       "    <tr style=\"text-align: right;\">\n",
       "      <th></th>\n",
       "      <th>total</th>\n",
       "    </tr>\n",
       "    <tr>\n",
       "      <th>warehouse</th>\n",
       "      <th></th>\n",
       "    </tr>\n",
       "  </thead>\n",
       "  <tbody>\n",
       "    <tr>\n",
       "      <th>Central</th>\n",
       "      <td>141982.88</td>\n",
       "    </tr>\n",
       "    <tr>\n",
       "      <th>North</th>\n",
       "      <td>100203.63</td>\n",
       "    </tr>\n",
       "    <tr>\n",
       "      <th>West</th>\n",
       "      <td>46926.49</td>\n",
       "    </tr>\n",
       "  </tbody>\n",
       "</table>\n",
       "</div>"
      ],
      "text/plain": [
       "               total\n",
       "warehouse           \n",
       "Central    141982.88\n",
       "North      100203.63\n",
       "West        46926.49"
      ]
     },
     "execution_count": 32,
     "metadata": {},
     "output_type": "execute_result"
    }
   ],
   "source": [
    "total_sales_by_warehouse = df.groupby('warehouse').sum()[['total']].sort_values(by='total', ascending=False)\n",
    "total_sales_by_warehouse"
   ]
  },
  {
   "cell_type": "code",
   "execution_count": 33,
   "id": "f1233346",
   "metadata": {},
   "outputs": [
    {
     "data": {
      "image/png": "[encoded data removed]",
      "text/plain": [
       "<Figure size 432x288 with 1 Axes>"
      ]
     },
     "metadata": {
      "needs_background": "light"
     },
     "output_type": "display_data"
    }
   ],
   "source": [
    "plt.bar(x=total_sales_by_warehouse.index, height=total_sales_by_warehouse['total'])\n",
    "plt.xlabel('Warehouse Location')\n",
    "plt.ylabel('Total Sales')\n",
    "plt.title('Total Sales By Warehouse Location')\n",
    "plt.show()"
   ]
  },
  {
   "cell_type": "markdown",
   "id": "e8fa1d8b",
   "metadata": {},
   "source": [
    "**Central warehouse had the highest total sales**"
   ]
  },
  {
   "cell_type": "markdown",
   "id": "3d33d1bb",
   "metadata": {},
   "source": [
    "### Question 11: What is the total quantity purchased for each warehouse location?"
   ]
  },
  {
   "cell_type": "code",
   "execution_count": 34,
   "id": "4392ca46",
   "metadata": {},
   "outputs": [
    {
     "data": {
      "text/html": [
       "<div>\n",
       "<style scoped>\n",
       "    .dataframe tbody tr th:only-of-type {\n",
       "        vertical-align: middle;\n",
       "    }\n",
       "\n",
       "    .dataframe tbody tr th {\n",
       "        vertical-align: top;\n",
       "    }\n",
       "\n",
       "    .dataframe thead th {\n",
       "        text-align: right;\n",
       "    }\n",
       "</style>\n",
       "<table border=\"1\" class=\"dataframe\">\n",
       "  <thead>\n",
       "    <tr style=\"text-align: right;\">\n",
       "      <th></th>\n",
       "      <th>quantity</th>\n",
       "    </tr>\n",
       "    <tr>\n",
       "      <th>warehouse</th>\n",
       "      <th></th>\n",
       "    </tr>\n",
       "  </thead>\n",
       "  <tbody>\n",
       "    <tr>\n",
       "      <th>Central</th>\n",
       "      <td>4527</td>\n",
       "    </tr>\n",
       "    <tr>\n",
       "      <th>North</th>\n",
       "      <td>3254</td>\n",
       "    </tr>\n",
       "    <tr>\n",
       "      <th>West</th>\n",
       "      <td>1614</td>\n",
       "    </tr>\n",
       "  </tbody>\n",
       "</table>\n",
       "</div>"
      ],
      "text/plain": [
       "           quantity\n",
       "warehouse          \n",
       "Central        4527\n",
       "North          3254\n",
       "West           1614"
      ]
     },
     "execution_count": 34,
     "metadata": {},
     "output_type": "execute_result"
    }
   ],
   "source": [
    "quantity_by_warehouse = df.groupby('warehouse').sum()[['quantity']].sort_values(by='quantity', ascending=False)\n",
    "quantity_by_warehouse"
   ]
  },
  {
   "cell_type": "code",
   "execution_count": 35,
   "id": "6acd303c",
   "metadata": {},
   "outputs": [
    {
     "data": {
      "image/png": "[encoded data removed]",
      "text/plain": [
       "<Figure size 432x288 with 1 Axes>"
      ]
     },
     "metadata": {
      "needs_background": "light"
     },
     "output_type": "display_data"
    }
   ],
   "source": [
    "plt.bar(x=quantity_by_warehouse.index, height=quantity_by_warehouse['quantity'])\n",
    "plt.xlabel('Warehouse Location')\n",
    "plt.ylabel('Quantity')\n",
    "plt.title('Quantity By Warehouse Location')\n",
    "plt.show()"
   ]
  },
  {
   "cell_type": "markdown",
   "id": "8563deed",
   "metadata": {},
   "source": [
    "**Central warehouse also sold the highest quantity of products**"
   ]
  },
  {
   "cell_type": "markdown",
   "id": "728b40da",
   "metadata": {},
   "source": [
    "### Question 12: What are the total sales by product in each region"
   ]
  },
  {
   "cell_type": "code",
   "execution_count": 36,
   "id": "e90a07ce",
   "metadata": {},
   "outputs": [
    {
     "data": {
      "text/html": [
       "<div>\n",
       "<style scoped>\n",
       "    .dataframe tbody tr th:only-of-type {\n",
       "        vertical-align: middle;\n",
       "    }\n",
       "\n",
       "    .dataframe tbody tr th {\n",
       "        vertical-align: top;\n",
       "    }\n",
       "\n",
       "    .dataframe thead th {\n",
       "        text-align: right;\n",
       "    }\n",
       "</style>\n",
       "<table border=\"1\" class=\"dataframe\">\n",
       "  <thead>\n",
       "    <tr style=\"text-align: right;\">\n",
       "      <th>warehouse</th>\n",
       "      <th>Central</th>\n",
       "      <th>North</th>\n",
       "      <th>West</th>\n",
       "    </tr>\n",
       "    <tr>\n",
       "      <th>product_line</th>\n",
       "      <th></th>\n",
       "      <th></th>\n",
       "      <th></th>\n",
       "    </tr>\n",
       "  </thead>\n",
       "  <tbody>\n",
       "    <tr>\n",
       "      <th>Breaking system</th>\n",
       "      <td>17792.53</td>\n",
       "      <td>10588.13</td>\n",
       "      <td>9969.49</td>\n",
       "    </tr>\n",
       "    <tr>\n",
       "      <th>Electrical system</th>\n",
       "      <td>21994.56</td>\n",
       "      <td>15247.27</td>\n",
       "      <td>6370.88</td>\n",
       "    </tr>\n",
       "    <tr>\n",
       "      <th>Engine</th>\n",
       "      <td>27263.14</td>\n",
       "      <td>7236.73</td>\n",
       "      <td>3445.51</td>\n",
       "    </tr>\n",
       "    <tr>\n",
       "      <th>Frame &amp; body</th>\n",
       "      <td>30040.56</td>\n",
       "      <td>28397.86</td>\n",
       "      <td>10586.31</td>\n",
       "    </tr>\n",
       "    <tr>\n",
       "      <th>Miscellaneous</th>\n",
       "      <td>12220.88</td>\n",
       "      <td>8618.67</td>\n",
       "      <td>6326.27</td>\n",
       "    </tr>\n",
       "    <tr>\n",
       "      <th>Suspension &amp; traction</th>\n",
       "      <td>32671.21</td>\n",
       "      <td>30114.97</td>\n",
       "      <td>10228.03</td>\n",
       "    </tr>\n",
       "  </tbody>\n",
       "</table>\n",
       "</div>"
      ],
      "text/plain": [
       "warehouse               Central     North      West\n",
       "product_line                                       \n",
       "Breaking system        17792.53  10588.13   9969.49\n",
       "Electrical system      21994.56  15247.27   6370.88\n",
       "Engine                 27263.14   7236.73   3445.51\n",
       "Frame & body           30040.56  28397.86  10586.31\n",
       "Miscellaneous          12220.88   8618.67   6326.27\n",
       "Suspension & traction  32671.21  30114.97  10228.03"
      ]
     },
     "execution_count": 36,
     "metadata": {},
     "output_type": "execute_result"
    }
   ],
   "source": [
    "df_groups = df.groupby(['product_line', 'warehouse']).sum()['total'].unstack()\n",
    "df_groups"
   ]
  },
  {
   "cell_type": "code",
   "execution_count": 37,
   "id": "9613a5e2",
   "metadata": {},
   "outputs": [
    {
     "data": {
      "image/png": "[encoded data removed]",
      "text/plain": [
       "<Figure size 432x288 with 1 Axes>"
      ]
     },
     "metadata": {
      "needs_background": "light"
     },
     "output_type": "display_data"
    }
   ],
   "source": [
    "df_groups.plot(kind='bar')\n",
    "plt.xlabel('Product Line')\n",
    "plt.ylabel('Total Sales')\n",
    "plt.title('Total Sales By Product in Each Warehouse Location')\n",
    "plt.show()"
   ]
  },
  {
   "cell_type": "markdown",
   "id": "5fe9835c",
   "metadata": {},
   "source": [
    "**The central warehouse had the highest total sales across all product lines**"
   ]
  },
  {
   "cell_type": "markdown",
   "id": "5175fbe6",
   "metadata": {},
   "source": [
    "### Multivariate Analysis of the Correlation Between the Numerical Columns in the dataset"
   ]
  },
  {
   "cell_type": "code",
   "execution_count": 38,
   "id": "efa3831f",
   "metadata": {},
   "outputs": [
    {
     "data": {
      "image/png": "[encoded data removed]",
      "text/plain": [
       "<Figure size 432x288 with 2 Axes>"
      ]
     },
     "metadata": {
      "needs_background": "light"
     },
     "output_type": "display_data"
    }
   ],
   "source": [
    "sns.heatmap(df.corr(), annot = True, fmt = '.3f', cmap = \"Blues\", center=0)\n",
    "plt.show()"
   ]
  },
  {
   "cell_type": "markdown",
   "id": "1fd4018a",
   "metadata": {},
   "source": [
    "### Question 13: What is the correlation between unit price of each product and the total sales"
   ]
  },
  {
   "cell_type": "code",
   "execution_count": 39,
   "id": "5e4b7a93",
   "metadata": {},
   "outputs": [
    {
     "data": {
      "text/plain": [
       "0.3729422796236055"
      ]
     },
     "execution_count": 39,
     "metadata": {},
     "output_type": "execute_result"
    }
   ],
   "source": [
    "df['unit_price'].corr(df['total'])"
   ]
  },
  {
   "cell_type": "code",
   "execution_count": 40,
   "id": "6dba0f55",
   "metadata": {},
   "outputs": [
    {
     "data": {
      "image/png": "[encoded data removed]",
      "text/plain": [
       "<Figure size 432x288 with 1 Axes>"
      ]
     },
     "metadata": {
      "needs_background": "light"
     },
     "output_type": "display_data"
    }
   ],
   "source": [
    "sns.regplot(data=df, x='unit_price', y='total')\n",
    "plt.xlabel('Unit Price')\n",
    "plt.ylabel('Total Sales')\n",
    "plt.title('Unit Price vs. Quantity of Products Sold')\n",
    "plt.show()"
   ]
  },
  {
   "cell_type": "markdown",
   "id": "ef2ff110",
   "metadata": {},
   "source": [
    "### Question 14: What is the correlation between quantity of products sold and the total sales"
   ]
  },
  {
   "cell_type": "code",
   "execution_count": 41,
   "id": "5fff7664",
   "metadata": {},
   "outputs": [
    {
     "data": {
      "text/plain": [
       "0.8702074571201321"
      ]
     },
     "execution_count": 41,
     "metadata": {},
     "output_type": "execute_result"
    }
   ],
   "source": [
    "df['quantity'].corr(df['total'])"
   ]
  },
  {
   "cell_type": "code",
   "execution_count": 42,
   "id": "384f61d6",
   "metadata": {},
   "outputs": [
    {
     "data": {
      "image/png": "[encoded data removed]",
      "text/plain": [
       "<Figure size 432x288 with 1 Axes>"
      ]
     },
     "metadata": {
      "needs_background": "light"
     },
     "output_type": "display_data"
    }
   ],
   "source": [
    "sns.regplot(data=df, x='quantity', y='total')\n",
    "plt.xlabel('Quantity')\n",
    "plt.ylabel('Total Sales')\n",
    "plt.title('Total Sales vs. Quantity of Products Sold')\n",
    "plt.show()"
   ]
  },
  {
   "cell_type": "markdown",
   "id": "22720f02",
   "metadata": {},
   "source": [
    "### Question 15: Analysis of total sales by date "
   ]
  },
  {
   "cell_type": "code",
   "execution_count": 43,
   "id": "d37e1e3a",
   "metadata": {},
   "outputs": [
    {
     "data": {
      "text/html": [
       "<div>\n",
       "<style scoped>\n",
       "    .dataframe tbody tr th:only-of-type {\n",
       "        vertical-align: middle;\n",
       "    }\n",
       "\n",
       "    .dataframe tbody tr th {\n",
       "        vertical-align: top;\n",
       "    }\n",
       "\n",
       "    .dataframe thead th {\n",
       "        text-align: right;\n",
       "    }\n",
       "</style>\n",
       "<table border=\"1\" class=\"dataframe\">\n",
       "  <thead>\n",
       "    <tr style=\"text-align: right;\">\n",
       "      <th></th>\n",
       "      <th>total</th>\n",
       "    </tr>\n",
       "    <tr>\n",
       "      <th>date</th>\n",
       "      <th></th>\n",
       "    </tr>\n",
       "  </thead>\n",
       "  <tbody>\n",
       "    <tr>\n",
       "      <th>2021-06-01</th>\n",
       "      <td>5378.29</td>\n",
       "    </tr>\n",
       "    <tr>\n",
       "      <th>2021-06-02</th>\n",
       "      <td>1297.14</td>\n",
       "    </tr>\n",
       "    <tr>\n",
       "      <th>2021-06-03</th>\n",
       "      <td>1054.85</td>\n",
       "    </tr>\n",
       "    <tr>\n",
       "      <th>2021-06-04</th>\n",
       "      <td>899.40</td>\n",
       "    </tr>\n",
       "    <tr>\n",
       "      <th>2021-06-05</th>\n",
       "      <td>2893.56</td>\n",
       "    </tr>\n",
       "    <tr>\n",
       "      <th>2021-06-06</th>\n",
       "      <td>4304.73</td>\n",
       "    </tr>\n",
       "    <tr>\n",
       "      <th>2021-06-07</th>\n",
       "      <td>2519.71</td>\n",
       "    </tr>\n",
       "    <tr>\n",
       "      <th>2021-06-08</th>\n",
       "      <td>5073.56</td>\n",
       "    </tr>\n",
       "    <tr>\n",
       "      <th>2021-06-09</th>\n",
       "      <td>2391.44</td>\n",
       "    </tr>\n",
       "    <tr>\n",
       "      <th>2021-06-10</th>\n",
       "      <td>3241.03</td>\n",
       "    </tr>\n",
       "  </tbody>\n",
       "</table>\n",
       "</div>"
      ],
      "text/plain": [
       "              total\n",
       "date               \n",
       "2021-06-01  5378.29\n",
       "2021-06-02  1297.14\n",
       "2021-06-03  1054.85\n",
       "2021-06-04   899.40\n",
       "2021-06-05  2893.56\n",
       "2021-06-06  4304.73\n",
       "2021-06-07  2519.71\n",
       "2021-06-08  5073.56\n",
       "2021-06-09  2391.44\n",
       "2021-06-10  3241.03"
      ]
     },
     "execution_count": 43,
     "metadata": {},
     "output_type": "execute_result"
    }
   ],
   "source": [
    "sales_by_date = df.groupby('date').sum()[['total']]\n",
    "sales_by_date.head(10)"
   ]
  },
  {
   "cell_type": "code",
   "execution_count": 44,
   "id": "6c9295d7",
   "metadata": {},
   "outputs": [
    {
     "data": {
      "image/png": "[encoded data removed]",
      "text/plain": [
       "<Figure size 1080x576 with 1 Axes>"
      ]
     },
     "metadata": {
      "needs_background": "light"
     },
     "output_type": "display_data"
    }
   ],
   "source": [
    "plt.figure(figsize = (15, 8))\n",
    "plt.plot(sales_by_date.index, sales_by_date['total'])\n",
    "plt.xticks(sales_by_date.index[::2], rotation=90)\n",
    "plt.xlabel('Date')\n",
    "plt.ylabel('Total Sales')\n",
    "plt.title('Total Sales by Date')\n",
    "plt.show()"
   ]
  },
  {
   "cell_type": "markdown",
   "id": "c719bc0d",
   "metadata": {},
   "source": [
    "**The highest sales were recorded on the 3rd of August and then 15th of June, 2021. From the line graph, there is always a peak of sales around the middle of each month, as evidenced by the sales on the 15th of June, 16th of July, 12th of August, 2021**"
   ]
  },
  {
   "cell_type": "markdown",
   "id": "efac8718",
   "metadata": {},
   "source": [
    "## Question 16: Analysis of total sales by month"
   ]
  },
  {
   "cell_type": "code",
   "execution_count": 45,
   "id": "4984613c",
   "metadata": {},
   "outputs": [
    {
     "data": {
      "text/html": [
       "<div>\n",
       "<style scoped>\n",
       "    .dataframe tbody tr th:only-of-type {\n",
       "        vertical-align: middle;\n",
       "    }\n",
       "\n",
       "    .dataframe tbody tr th {\n",
       "        vertical-align: top;\n",
       "    }\n",
       "\n",
       "    .dataframe thead th {\n",
       "        text-align: right;\n",
       "    }\n",
       "</style>\n",
       "<table border=\"1\" class=\"dataframe\">\n",
       "  <thead>\n",
       "    <tr style=\"text-align: right;\">\n",
       "      <th></th>\n",
       "      <th>total</th>\n",
       "    </tr>\n",
       "    <tr>\n",
       "      <th>month</th>\n",
       "      <th></th>\n",
       "    </tr>\n",
       "  </thead>\n",
       "  <tbody>\n",
       "    <tr>\n",
       "      <th>Jun</th>\n",
       "      <td>95320.03</td>\n",
       "    </tr>\n",
       "    <tr>\n",
       "      <th>Jul</th>\n",
       "      <td>93547.91</td>\n",
       "    </tr>\n",
       "    <tr>\n",
       "      <th>Aug</th>\n",
       "      <td>100245.06</td>\n",
       "    </tr>\n",
       "  </tbody>\n",
       "</table>\n",
       "</div>"
      ],
      "text/plain": [
       "           total\n",
       "month           \n",
       "Jun     95320.03\n",
       "Jul     93547.91\n",
       "Aug    100245.06"
      ]
     },
     "execution_count": 45,
     "metadata": {},
     "output_type": "execute_result"
    }
   ],
   "source": [
    "months = ['Jun', 'Jul', 'Aug']\n",
    "sales_by_month = df.groupby('month').sum()[['total']].reindex(months)\n",
    "sales_by_month"
   ]
  },
  {
   "cell_type": "code",
   "execution_count": 46,
   "id": "84888443",
   "metadata": {},
   "outputs": [
    {
     "data": {
      "image/png": "[encoded data removed]",
      "text/plain": [
       "<Figure size 432x288 with 1 Axes>"
      ]
     },
     "metadata": {
      "needs_background": "light"
     },
     "output_type": "display_data"
    }
   ],
   "source": [
    "plt.bar(x=sales_by_month.index, height=sales_by_month['total'])\n",
    "plt.xlabel(\"Month\")\n",
    "plt.ylabel(\"Total Sales\")\n",
    "plt.title(\"Total Sales by Month\")\n",
    "plt.show()"
   ]
  },
  {
   "cell_type": "markdown",
   "id": "4c3b5361",
   "metadata": {},
   "source": [
    "**The highest total sales was recorded during the month of August**"
   ]
  },
  {
   "cell_type": "markdown",
   "id": "ac896951",
   "metadata": {},
   "source": [
    "### Question 17: Analysis of Sales by Month for Each Client Type"
   ]
  },
  {
   "cell_type": "code",
   "execution_count": 47,
   "id": "c4e92b1b",
   "metadata": {},
   "outputs": [
    {
     "data": {
      "text/html": [
       "<div>\n",
       "<style scoped>\n",
       "    .dataframe tbody tr th:only-of-type {\n",
       "        vertical-align: middle;\n",
       "    }\n",
       "\n",
       "    .dataframe tbody tr th {\n",
       "        vertical-align: top;\n",
       "    }\n",
       "\n",
       "    .dataframe thead tr th {\n",
       "        text-align: left;\n",
       "    }\n",
       "\n",
       "    .dataframe thead tr:last-of-type th {\n",
       "        text-align: right;\n",
       "    }\n",
       "</style>\n",
       "<table border=\"1\" class=\"dataframe\">\n",
       "  <thead>\n",
       "    <tr>\n",
       "      <th></th>\n",
       "      <th colspan=\"2\" halign=\"left\">total</th>\n",
       "    </tr>\n",
       "    <tr>\n",
       "      <th>client_type</th>\n",
       "      <th>Retail</th>\n",
       "      <th>Wholesale</th>\n",
       "    </tr>\n",
       "    <tr>\n",
       "      <th>month</th>\n",
       "      <th></th>\n",
       "      <th></th>\n",
       "    </tr>\n",
       "  </thead>\n",
       "  <tbody>\n",
       "    <tr>\n",
       "      <th>Jun</th>\n",
       "      <td>46220.15</td>\n",
       "      <td>49099.88</td>\n",
       "    </tr>\n",
       "    <tr>\n",
       "      <th>Jul</th>\n",
       "      <td>44461.80</td>\n",
       "      <td>49086.11</td>\n",
       "    </tr>\n",
       "    <tr>\n",
       "      <th>Aug</th>\n",
       "      <td>38788.72</td>\n",
       "      <td>61456.34</td>\n",
       "    </tr>\n",
       "  </tbody>\n",
       "</table>\n",
       "</div>"
      ],
      "text/plain": [
       "                total          \n",
       "client_type    Retail Wholesale\n",
       "month                          \n",
       "Jun          46220.15  49099.88\n",
       "Jul          44461.80  49086.11\n",
       "Aug          38788.72  61456.34"
      ]
     },
     "execution_count": 47,
     "metadata": {},
     "output_type": "execute_result"
    }
   ],
   "source": [
    "df_group2 = df.groupby(['month','client_type']).sum()[['total']].unstack().reindex(months)\n",
    "df_group2"
   ]
  },
  {
   "cell_type": "code",
   "execution_count": 48,
   "id": "e2f4bf9a",
   "metadata": {},
   "outputs": [
    {
     "data": {
      "image/png": "[encoded data removed]",
      "text/plain": [
       "<Figure size 432x288 with 1 Axes>"
      ]
     },
     "metadata": {
      "needs_background": "light"
     },
     "output_type": "display_data"
    }
   ],
   "source": [
    "df_group2.plot(kind='bar')\n",
    "plt.xlabel('Month')\n",
    "plt.ylabel('Total Sales')\n",
    "plt.title('Total Sales by Month for Each Client Type')\n",
    "plt.xticks(rotation=0)\n",
    "plt.legend(['Retail', 'Wholesale'], title='Client Type')\n",
    "plt.show()"
   ]
  },
  {
   "cell_type": "markdown",
   "id": "e3f866ce",
   "metadata": {},
   "source": [
    "**August had the highest sales among all 3 months, with the highest wholesales even though it recorded the lowest retail sales**"
   ]
  },
  {
   "cell_type": "markdown",
   "id": "d7718ae5",
   "metadata": {},
   "source": [
    "### Question 18: Analysis of Sales by Client Type for Each Date"
   ]
  },
  {
   "cell_type": "code",
   "execution_count": 49,
   "id": "24f45564",
   "metadata": {},
   "outputs": [
    {
     "data": {
      "text/html": [
       "<div>\n",
       "<style scoped>\n",
       "    .dataframe tbody tr th:only-of-type {\n",
       "        vertical-align: middle;\n",
       "    }\n",
       "\n",
       "    .dataframe tbody tr th {\n",
       "        vertical-align: top;\n",
       "    }\n",
       "\n",
       "    .dataframe thead tr th {\n",
       "        text-align: left;\n",
       "    }\n",
       "\n",
       "    .dataframe thead tr:last-of-type th {\n",
       "        text-align: right;\n",
       "    }\n",
       "</style>\n",
       "<table border=\"1\" class=\"dataframe\">\n",
       "  <thead>\n",
       "    <tr>\n",
       "      <th></th>\n",
       "      <th colspan=\"2\" halign=\"left\">total</th>\n",
       "    </tr>\n",
       "    <tr>\n",
       "      <th>client_type</th>\n",
       "      <th>Retail</th>\n",
       "      <th>Wholesale</th>\n",
       "    </tr>\n",
       "    <tr>\n",
       "      <th>date</th>\n",
       "      <th></th>\n",
       "      <th></th>\n",
       "    </tr>\n",
       "  </thead>\n",
       "  <tbody>\n",
       "    <tr>\n",
       "      <th>2021-06-02</th>\n",
       "      <td>1297.14</td>\n",
       "      <td>NaN</td>\n",
       "    </tr>\n",
       "    <tr>\n",
       "      <th>2021-06-03</th>\n",
       "      <td>1054.85</td>\n",
       "      <td>NaN</td>\n",
       "    </tr>\n",
       "    <tr>\n",
       "      <th>2021-06-04</th>\n",
       "      <td>899.40</td>\n",
       "      <td>NaN</td>\n",
       "    </tr>\n",
       "    <tr>\n",
       "      <th>2021-07-17</th>\n",
       "      <td>1224.08</td>\n",
       "      <td>NaN</td>\n",
       "    </tr>\n",
       "    <tr>\n",
       "      <th>2021-07-22</th>\n",
       "      <td>779.57</td>\n",
       "      <td>NaN</td>\n",
       "    </tr>\n",
       "    <tr>\n",
       "      <th>2021-07-24</th>\n",
       "      <td>1114.71</td>\n",
       "      <td>NaN</td>\n",
       "    </tr>\n",
       "  </tbody>\n",
       "</table>\n",
       "</div>"
      ],
      "text/plain": [
       "               total          \n",
       "client_type   Retail Wholesale\n",
       "date                          \n",
       "2021-06-02   1297.14       NaN\n",
       "2021-06-03   1054.85       NaN\n",
       "2021-06-04    899.40       NaN\n",
       "2021-07-17   1224.08       NaN\n",
       "2021-07-22    779.57       NaN\n",
       "2021-07-24   1114.71       NaN"
      ]
     },
     "execution_count": 49,
     "metadata": {},
     "output_type": "execute_result"
    }
   ],
   "source": [
    "# Dates that didn't record any wholesales\n",
    "df_group3 = df.groupby(['date','client_type']).sum()[['total']].unstack()\n",
    "df_group3[df_group3['total']['Wholesale'].isnull()]"
   ]
  },
  {
   "cell_type": "markdown",
   "id": "343b969c",
   "metadata": {},
   "source": [
    "**There are 6 days that recorded no retail sales, and these days are among the lowest days by sales**"
   ]
  },
  {
   "cell_type": "code",
   "execution_count": 50,
   "id": "9de9030b",
   "metadata": {},
   "outputs": [
    {
     "data": {
      "text/html": [
       "<div>\n",
       "<style scoped>\n",
       "    .dataframe tbody tr th:only-of-type {\n",
       "        vertical-align: middle;\n",
       "    }\n",
       "\n",
       "    .dataframe tbody tr th {\n",
       "        vertical-align: top;\n",
       "    }\n",
       "\n",
       "    .dataframe thead tr th {\n",
       "        text-align: left;\n",
       "    }\n",
       "\n",
       "    .dataframe thead tr:last-of-type th {\n",
       "        text-align: right;\n",
       "    }\n",
       "</style>\n",
       "<table border=\"1\" class=\"dataframe\">\n",
       "  <thead>\n",
       "    <tr>\n",
       "      <th></th>\n",
       "      <th colspan=\"2\" halign=\"left\">total</th>\n",
       "    </tr>\n",
       "    <tr>\n",
       "      <th>client_type</th>\n",
       "      <th>Retail</th>\n",
       "      <th>Wholesale</th>\n",
       "    </tr>\n",
       "    <tr>\n",
       "      <th>date</th>\n",
       "      <th></th>\n",
       "      <th></th>\n",
       "    </tr>\n",
       "  </thead>\n",
       "  <tbody>\n",
       "    <tr>\n",
       "      <th>2021-06-01</th>\n",
       "      <td>1698.18</td>\n",
       "      <td>3680.11</td>\n",
       "    </tr>\n",
       "    <tr>\n",
       "      <th>2021-06-02</th>\n",
       "      <td>1297.14</td>\n",
       "      <td>NaN</td>\n",
       "    </tr>\n",
       "    <tr>\n",
       "      <th>2021-06-03</th>\n",
       "      <td>1054.85</td>\n",
       "      <td>NaN</td>\n",
       "    </tr>\n",
       "    <tr>\n",
       "      <th>2021-06-04</th>\n",
       "      <td>899.40</td>\n",
       "      <td>NaN</td>\n",
       "    </tr>\n",
       "    <tr>\n",
       "      <th>2021-06-05</th>\n",
       "      <td>1435.10</td>\n",
       "      <td>1458.46</td>\n",
       "    </tr>\n",
       "    <tr>\n",
       "      <th>...</th>\n",
       "      <td>...</td>\n",
       "      <td>...</td>\n",
       "    </tr>\n",
       "    <tr>\n",
       "      <th>2021-08-24</th>\n",
       "      <td>486.32</td>\n",
       "      <td>3147.38</td>\n",
       "    </tr>\n",
       "    <tr>\n",
       "      <th>2021-08-25</th>\n",
       "      <td>1111.91</td>\n",
       "      <td>1228.75</td>\n",
       "    </tr>\n",
       "    <tr>\n",
       "      <th>2021-08-26</th>\n",
       "      <td>929.42</td>\n",
       "      <td>337.80</td>\n",
       "    </tr>\n",
       "    <tr>\n",
       "      <th>2021-08-27</th>\n",
       "      <td>1817.99</td>\n",
       "      <td>1649.14</td>\n",
       "    </tr>\n",
       "    <tr>\n",
       "      <th>2021-08-28</th>\n",
       "      <td>1171.96</td>\n",
       "      <td>3227.74</td>\n",
       "    </tr>\n",
       "  </tbody>\n",
       "</table>\n",
       "<p>89 rows × 2 columns</p>\n",
       "</div>"
      ],
      "text/plain": [
       "               total          \n",
       "client_type   Retail Wholesale\n",
       "date                          \n",
       "2021-06-01   1698.18   3680.11\n",
       "2021-06-02   1297.14       NaN\n",
       "2021-06-03   1054.85       NaN\n",
       "2021-06-04    899.40       NaN\n",
       "2021-06-05   1435.10   1458.46\n",
       "...              ...       ...\n",
       "2021-08-24    486.32   3147.38\n",
       "2021-08-25   1111.91   1228.75\n",
       "2021-08-26    929.42    337.80\n",
       "2021-08-27   1817.99   1649.14\n",
       "2021-08-28   1171.96   3227.74\n",
       "\n",
       "[89 rows x 2 columns]"
      ]
     },
     "execution_count": 50,
     "metadata": {},
     "output_type": "execute_result"
    }
   ],
   "source": [
    "df_group4 = df.groupby(['date','client_type']).sum()[['total']].unstack()\n",
    "df_group4"
   ]
  },
  {
   "cell_type": "code",
   "execution_count": 51,
   "id": "df7730cf",
   "metadata": {},
   "outputs": [
    {
     "data": {
      "image/png": "[encoded data removed]",
      "text/plain": [
       "<Figure size 2160x720 with 1 Axes>"
      ]
     },
     "metadata": {
      "needs_background": "light"
     },
     "output_type": "display_data"
    }
   ],
   "source": [
    "df_group4.plot(kind='bar', figsize=(30, 10))\n",
    "plt.xlabel('Date')\n",
    "plt.ylabel('Total Sales')\n",
    "plt.title('Total Sales by Date for Each Client Type')\n",
    "plt.xticks(rotation=90)\n",
    "plt.legend(['Retail', 'Wholesale'], title='Client Type')\n",
    "plt.show()"
   ]
  },
  {
   "cell_type": "markdown",
   "id": "93da2b99",
   "metadata": {},
   "source": [
    "**The reason for low total sales on certain days is due to the drop in wholesales, and some times absence of wholesales for that day. On the otherhand, days with the highest total sales, have marked increase in the wholesales for that day**"
   ]
  },
  {
   "cell_type": "code",
   "execution_count": 52,
   "id": "33ac3d26",
   "metadata": {},
   "outputs": [
    {
     "data": {
      "text/html": [
       "<div>\n",
       "<style scoped>\n",
       "    .dataframe tbody tr th:only-of-type {\n",
       "        vertical-align: middle;\n",
       "    }\n",
       "\n",
       "    .dataframe tbody tr th {\n",
       "        vertical-align: top;\n",
       "    }\n",
       "\n",
       "    .dataframe thead th {\n",
       "        text-align: right;\n",
       "    }\n",
       "</style>\n",
       "<table border=\"1\" class=\"dataframe\">\n",
       "  <thead>\n",
       "    <tr style=\"text-align: right;\">\n",
       "      <th></th>\n",
       "      <th>total</th>\n",
       "    </tr>\n",
       "    <tr>\n",
       "      <th>client_type</th>\n",
       "      <th></th>\n",
       "    </tr>\n",
       "  </thead>\n",
       "  <tbody>\n",
       "    <tr>\n",
       "      <th>Retail</th>\n",
       "      <td>1897.47</td>\n",
       "    </tr>\n",
       "    <tr>\n",
       "      <th>Wholesale</th>\n",
       "      <td>6519.61</td>\n",
       "    </tr>\n",
       "  </tbody>\n",
       "</table>\n",
       "</div>"
      ],
      "text/plain": [
       "               total\n",
       "client_type         \n",
       "Retail       1897.47\n",
       "Wholesale    6519.61"
      ]
     },
     "execution_count": 52,
     "metadata": {},
     "output_type": "execute_result"
    }
   ],
   "source": [
    "df_group5 = df[df['date'] =='2021-08-03'].groupby('client_type').sum()[['total']]\n",
    "df_group5"
   ]
  },
  {
   "cell_type": "code",
   "execution_count": 53,
   "id": "4f49a928",
   "metadata": {},
   "outputs": [
    {
     "data": {
      "image/png": "[encoded data removed]",
      "text/plain": [
       "<Figure size 432x288 with 1 Axes>"
      ]
     },
     "metadata": {
      "needs_background": "light"
     },
     "output_type": "display_data"
    }
   ],
   "source": [
    "df_group5.plot(kind='bar')\n",
    "plt.xlabel('Client Type')\n",
    "plt.ylabel('Total Sales')\n",
    "plt.title('Total Sales on the Day with the Highest Sales (3rd of August, 2021) for Each Client Type')\n",
    "plt.xticks(rotation=0)\n",
    "plt.gca().get_legend().remove()\n",
    "plt.show()"
   ]
  },
  {
   "cell_type": "markdown",
   "id": "146b6e51",
   "metadata": {},
   "source": [
    "**The bar graph shows the marked increase in wholesales for the day with the highest sales**"
   ]
  },
  {
   "cell_type": "markdown",
   "id": "7e6e08b5",
   "metadata": {},
   "source": [
    "## Observations:\n",
    "   * Transfer payment method had the highest number of quantity ordered among all the payment methods and also the highest number of sales.\n",
    "   * Engine product line has the highest price per unit, but one of the lowest total sales, because of the low amount of engines ordered.\n",
    "   * Suspension and traction product line had the highest total sales, this might be due to it also having the highest number of sales, despite its average unit price\n",
    "   * Based on proportion of clients, 2/3rd of our clients are retail clients, but wholesale clients had the highest number of total sales and also the highest number of quantities ordered. This was expected, because wholesale clients buy in bigger bulks than retail clients. However further analysis showed that in the West warehouse region, there are more total sales by retail clients than wholesale clients, this requires more analysis with more information.\n",
    "   * The central warehouse had the highest total sales among all 3 warehouses and also the highest quantity of products bought\n",
    "   * The central warehouse also consistently had the highest total sales across all product lines, followed by the North warehouse and finally the West.\n",
    "   * Comparing the correlation between unit price and total sales, to that between quantity and total sales, even though both unit price and quantity sold have a positive correlation with total sales, quantity sold of products sold had a bigger effect on total sales.\n",
    "   * The top 2 highest sales by date were recorded on the 3rd of August, 15th of June and 7th of August 2021, in order of sales. Around the middle of each month, we see from the line graph that there's a peak of sales.\n",
    "   * Analysis of the total sales by month shows that the month of August had the highest sales, then the month of June, and finally July. The month of August recorded the highest wholesales but also the lowest retail sales among all 3 months\n",
    "   * The days with the lowest total sales, have very low or no wholesales for that day, and the days with the highest total sales, have the highest wholesales in the dataset."
   ]
  },
  {
   "cell_type": "markdown",
   "id": "c9d81cec",
   "metadata": {},
   "source": [
    "## Recommendations:\n",
    "   * The highest sales are from wholesalers in all regions except the west, where retailer total sales exceed wholesale total sales, resulting in a decrease in total product sales in that region. Based on this finding, we will recommend that the company's marketing department create more awareness in this region, specifically among wholesalers in this region and others.\n",
    "   * Also, in other to promote sales, discounts can be offered on a specific amount of product purchased for the following month, particularly near the end of the month when product sales are low."
   ]
  },
  {
   "cell_type": "code",
   "execution_count": null,
   "id": "31b101a6",
   "metadata": {},
   "outputs": [],
   "source": []
  }
 ],
 "metadata": {
  "kernelspec": {
   "display_name": "Python 3 (ipykernel)",
   "language": "python",
   "name": "python3"
  },
  "language_info": {
   "codemirror_mode": {
    "name": "ipython",
    "version": 3
   },
   "file_extension": ".py",
   "mimetype": "text/x-python",
   "name": "python",
   "nbconvert_exporter": "python",
   "pygments_lexer": "ipython3",
   "version": "3.10.7"
  }
 },
 "nbformat": 4,
 "nbformat_minor": 5
}
